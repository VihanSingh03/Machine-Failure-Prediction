{
 "cells": [
  {
   "cell_type": "code",
   "execution_count": 3,
   "id": "9bec8e1d-a8f1-412d-ab4c-d4d31805ae34",
   "metadata": {},
   "outputs": [
    {
     "name": "stdout",
     "output_type": "stream",
     "text": [
      "Classification Report:\n",
      "               precision    recall  f1-score   support\n",
      "\n",
      "           0       0.94      0.93      0.94       110\n",
      "           1       0.90      0.92      0.91        79\n",
      "\n",
      "    accuracy                           0.93       189\n",
      "   macro avg       0.92      0.93      0.92       189\n",
      "weighted avg       0.93      0.93      0.93       189\n",
      "\n",
      "* Running on local URL:  http://127.0.0.1:7860\n",
      "\n",
      "To create a public link, set `share=True` in `launch()`.\n"
     ]
    },
    {
     "data": {
      "text/html": [
       "<div><iframe src=\"http://127.0.0.1:7860/\" width=\"100%\" height=\"500\" allow=\"autoplay; camera; microphone; clipboard-read; clipboard-write;\" frameborder=\"0\" allowfullscreen></iframe></div>"
      ],
      "text/plain": [
       "<IPython.core.display.HTML object>"
      ]
     },
     "metadata": {},
     "output_type": "display_data"
    },
    {
     "data": {
      "text/plain": []
     },
     "execution_count": 3,
     "metadata": {},
     "output_type": "execute_result"
    }
   ],
   "source": [
    "import pandas as pd\n",
    "from sklearn.model_selection import train_test_split\n",
    "from sklearn.ensemble import RandomForestClassifier\n",
    "from sklearn.metrics import classification_report\n",
    "import gradio as gr\n",
    "\n",
    "# Load dataset (assuming you've already cleaned it)\n",
    "ile_path = 'data (1).csv'\n",
    "data = pd.read_csv(file_path)\n",
    "\n",
    "# Remove duplicates\n",
    "data_cleaned = data.drop_duplicates()\n",
    "\n",
    "# Features and target split\n",
    "X = data_cleaned.drop('fail', axis=1)\n",
    "y = data_cleaned['fail']\n",
    "\n",
    "# Train-test split\n",
    "X_train, X_test, y_train, y_test = train_test_split(X, y, test_size=0.2, random_state=42, stratify=y)\n",
    "\n",
    "# Train a Random Forest Classifier\n",
    "rf_model = RandomForestClassifier(random_state=42)\n",
    "rf_model.fit(X_train, y_train)\n",
    "\n",
    "# Evaluation\n",
    "y_pred = rf_model.predict(X_test)\n",
    "print(\"Classification Report:\\n\", classification_report(y_test, y_pred))\n",
    "\n",
    "# Define prediction function for Gradio\n",
    "def predict_failure(footfall, tempMode, AQ, USS, CS, VOC, RP, IP, Temperature):\n",
    "    # Prepare input as a DataFrame\n",
    "    input_data = pd.DataFrame({\n",
    "        'footfall': [footfall],\n",
    "        'tempMode': [tempMode],\n",
    "        'AQ': [AQ],\n",
    "        'USS': [USS],\n",
    "        'CS': [CS],\n",
    "        'VOC': [VOC],\n",
    "        'RP': [RP],\n",
    "        'IP': [IP],\n",
    "        'Temperature': [Temperature]\n",
    "    })\n",
    "    \n",
    "    # Predict using the trained model\n",
    "    prediction = rf_model.predict(input_data)[0]\n",
    "    \n",
    "    return \"Failure\" if prediction == 1 else \"No Failure\"\n",
    "\n",
    "# Set up Gradio interface using new API\n",
    "with gr.Blocks() as demo:\n",
    "    gr.Markdown(\"# Machine Failure Prediction\")\n",
    "    \n",
    "    with gr.Row():\n",
    "        footfall = gr.Number(label=\"Footfall\")\n",
    "        tempMode = gr.Number(label=\"Temperature Mode\")\n",
    "        AQ = gr.Number(label=\"Air Quality (AQ)\")\n",
    "        USS = gr.Number(label=\"Ultrasonic Sensor (USS)\")\n",
    "        CS = gr.Number(label=\"Current Sensor (CS)\")\n",
    "        VOC = gr.Number(label=\"VOC\")\n",
    "        RP = gr.Number(label=\"Rotational Position (RP)\")\n",
    "        IP = gr.Number(label=\"Input Pressure (IP)\")\n",
    "        Temperature = gr.Number(label=\"Temperature\")\n",
    "        \n",
    "    predict_button = gr.Button(\"Predict\")\n",
    "    output = gr.Textbox(label=\"Prediction\")\n",
    "    \n",
    "    predict_button.click(\n",
    "        predict_failure,\n",
    "        inputs=[footfall, tempMode, AQ, USS, CS, VOC, RP, IP, Temperature],\n",
    "        outputs=output\n",
    "    )\n",
    "\n",
    "# Launch the Gradio interface\n",
    "demo.launch()\n"
   ]
  }
 ],
 "metadata": {
  "kernelspec": {
   "display_name": "Python 3 (ipykernel)",
   "language": "python",
   "name": "python3"
  },
  "language_info": {
   "codemirror_mode": {
    "name": "ipython",
    "version": 3
   },
   "file_extension": ".py",
   "mimetype": "text/x-python",
   "name": "python",
   "nbconvert_exporter": "python",
   "pygments_lexer": "ipython3",
   "version": "3.12.4"
  }
 },
 "nbformat": 4,
 "nbformat_minor": 5
}
